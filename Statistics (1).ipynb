{
  "nbformat": 4,
  "nbformat_minor": 0,
  "metadata": {
    "colab": {
      "provenance": []
    },
    "kernelspec": {
      "name": "python3",
      "display_name": "Python 3"
    },
    "language_info": {
      "name": "python"
    }
  },
  "cells": [
    {
      "cell_type": "markdown",
      "source": [
        "##Q1. Explain the different types of data (qualitative and quantitative) and provide examples of each. Discuss nominal, ordinal, interval, and ratio scales?\n"
      ],
      "metadata": {
        "id": "tW2UfPCugf1P"
      }
    },
    {
      "cell_type": "markdown",
      "source": [
        "**Types of Data: Qualitative and Quantitative**\n"
      ],
      "metadata": {
        "id": "dyPLp3-0kYIw"
      }
    },
    {
      "cell_type": "code",
      "source": [
        "Data is broadly categorized into qualitative and quantitative based on its nature and how it is measured."
      ],
      "metadata": {
        "id": "srn4BwGTkeo6"
      },
      "execution_count": null,
      "outputs": []
    },
    {
      "cell_type": "markdown",
      "source": [
        "**1. Qualitative Data**"
      ],
      "metadata": {
        "id": "fHH5Lq2xkoEv"
      }
    },
    {
      "cell_type": "markdown",
      "source": [
        "**Definition**: Descriptive data that represents characteristics or categories without numerical value.\n"
      ],
      "metadata": {
        "id": "aTEVk3bZkxUf"
      }
    },
    {
      "cell_type": "markdown",
      "source": [
        "Types:"
      ],
      "metadata": {
        "id": "RmrYJPzvlCz7"
      }
    },
    {
      "cell_type": "markdown",
      "source": [
        "\n",
        "\n",
        "* Nominal: Data that consists of categories without a natural order.\n",
        "  \n",
        "  Example: Eye color (blue, green, brown), blood type (A, B, O, AB), types of cuisine (Italian, Chinese, Mexican).\n",
        "\n",
        "\n",
        "* Ordinal: Data that has a natural order or ranking but lacks consistent\n",
        "  Intervals between ranks.\n",
        "\n",
        "  Example: Education levels (high school, bachelor’s, master’s, PhD), customer satisfaction ratings (poor, fair, good, excellent).\n",
        "  \n",
        "\n",
        "\n"
      ],
      "metadata": {
        "id": "2JPe9mphmztH"
      }
    },
    {
      "cell_type": "markdown",
      "source": [
        "2.**Quantitative Data**\n"
      ],
      "metadata": {
        "id": "nTNCteMKncBm"
      }
    },
    {
      "cell_type": "markdown",
      "source": [
        "**Definition**: Numerical data that can be measured or counted.\n",
        "\n",
        "**Type**\n",
        "\n",
        "**Interval**: Numeric data with meaningful intervals, but no true zero point.\n",
        "\n",
        "**Example**: Temperature in Celsius or Fahrenheit (0°C does not mean \"no temperature\"), IQ scores.\n",
        "\n",
        "**Ratio**: Numeric data with meaningful intervals and a true zero point, allowing for meaningful comparisons of magnitude.\n",
        "\n",
        "**Example**: Weight, height, income, age, distance.\n"
      ],
      "metadata": {
        "id": "KA-JRVa-NVmN"
      }
    },
    {
      "cell_type": "code",
      "source": [
        "Nominal, Ordinal, Interval, and Ratio Scales\n",
        "\n",
        "These scales determine the type of data and the permissible statistical operations:\n"
      ],
      "metadata": {
        "id": "c-9HrVLsNP3l"
      },
      "execution_count": null,
      "outputs": []
    },
    {
      "cell_type": "markdown",
      "source": [
        "1. **Nominal Scale**:\n",
        "\n",
        "\n",
        "*  Characteristics: Categorical; no order.\n",
        "\n",
        "*  Example: Gender (male, female, non-binary), car brands.\n",
        "\n",
        "*  Permissible Operations: Counting frequencies, mode.\n"
      ],
      "metadata": {
        "id": "1yc6FCUvNqSc"
      }
    },
    {
      "cell_type": "markdown",
      "source": [
        "2. Ordinal Scale:\n",
        "\n",
        "*  Characteristics: Categorical; ordered, but differences are not meaningful.\n",
        "\n",
        "*  Example: Movie ratings (1-star, 2-stars, etc.), class rankings.\n",
        "\n",
        "*  Permissible Operations: Median, rank correlation\n",
        "\n",
        "\n",
        "\n"
      ],
      "metadata": {
        "id": "6CDbymmpOBkE"
      }
    },
    {
      "cell_type": "markdown",
      "source": [
        "3. **Interval Scale**:\n",
        "\n",
        "* Characteristics: Numeric; ordered; meaningful intervals; no true zero.\n",
        "\n",
        "*  Example: Time of day (e.g., 12 PM vs. 2 PM), temperature in Celsius.\n",
        "\n",
        "*  Permissible Operations: Addition, subtraction, mean.\n"
      ],
      "metadata": {
        "id": "1qtBIGPfPIFt"
      }
    },
    {
      "cell_type": "markdown",
      "source": [
        "4. **Ratio Scale**:\n",
        "\n",
        "* Characteristics: Numeric; ordered; meaningful intervals; true zero point.\n",
        "\n",
        "* Example: Length (0 cm means no length), speed, weight.\n",
        "\n",
        "* Permissible Operations: All arithmetic operations (addition, subtraction,\n",
        "  multiplication, division).\n"
      ],
      "metadata": {
        "id": "5gwtlvGJPjMM"
      }
    },
    {
      "cell_type": "markdown",
      "source": [
        "##Q2  What are the measures of central tendency, and when should you use each? Discuss the mean, median, and mode with examples and situations where each is appropriate?\n",
        "\n"
      ],
      "metadata": {
        "id": "9atFDEfJaB9H"
      }
    },
    {
      "cell_type": "code",
      "source": [
        "Measures of central tendency describe the center or typical value in a dataset. The three primary measures are mean, median, and mode.\n",
        " Each has specific applications depending on the nature of the data and the context."
      ],
      "metadata": {
        "id": "sQL-_a66NkwF"
      },
      "execution_count": null,
      "outputs": []
    },
    {
      "cell_type": "markdown",
      "source": [
        "1. Mean (Arithmetic Average)"
      ],
      "metadata": {
        "id": "D_NNDaHLaYEP"
      }
    },
    {
      "cell_type": "markdown",
      "source": [
        "\n",
        "\n",
        "* Definition: The mean is calculated by summing all the values in a dataset and\n",
        "  dividing by the number of values.\n",
        "\n",
        "*  Formula: Mean= Sum of all values\n",
        "                  Number of values\n",
        "\n",
        "**Example**: If the test scores are :- 85,90,75,95,100 the mean is:\n",
        "\n",
        "  MEAN :- 85,90,75,95,100  =  89\n",
        "               \n",
        "\n",
        "                 ---\n",
        "                  5\n",
        "**When to Use:**\n",
        "\n",
        "Best for interval or ratio data without significant outliers.\n",
        "\n",
        "**Example**: Calculating the average income in a region, provided incomes are evenly distributed.\n",
        "\n",
        "**Limitations:** The mean is sensitive to outliers. For instance, in income data, one extremely high value can skew the mean, making it unrepresentative of the majority.\n",
        "\n"
      ],
      "metadata": {
        "id": "hk-VNI6YaiKn"
      }
    },
    {
      "cell_type": "markdown",
      "source": [
        "**2. Median (Middle Value)**\n",
        "\n",
        "**Definition**: The median is the middle value in an ordered dataset. If the dataset has an even number of values, the median is the average of the two middle values.\n",
        "\n",
        "**Example**: In the dataset\n",
        "\n",
        "75,85,90,95,100,75,85,90,95,100 (ordered), the median is 90.\n",
        "\n",
        "For 75,85,90,95,75,85,90,95, the median is:\n"
      ],
      "metadata": {
        "id": "xBPasfp8dLk-"
      }
    },
    {
      "cell_type": "markdown",
      "source": [
        "Median = (85+90)/2 = 87.5"
      ],
      "metadata": {
        "id": "Uce7QrkofjLW"
      }
    },
    {
      "cell_type": "markdown",
      "source": [
        "**When to Use**:\n",
        "\n",
        "Best for ordinal, interval, or ratio data, especially when the dataset has outliers or a skewed distribution.\n",
        "\n",
        "**Example:** Determining the median house price in an area where some houses are exceptionally expensive.\n"
      ],
      "metadata": {
        "id": "A4vyBK2OhE6W"
      }
    },
    {
      "cell_type": "markdown",
      "source": [
        "Advantages: The median is not affected by outliers, making it a robust measure for skewed data."
      ],
      "metadata": {
        "id": "0HNGzY6riUjd"
      }
    },
    {
      "cell_type": "markdown",
      "source": [
        "3. **Mode (Most Frequent Value)**\n",
        "\n",
        "**Definition**: The mode is the value that appears most frequently in a dataset. A dataset can have one mode (unimodal), more than one mode (bimodal/multimodal), or no mode.\n",
        "\n",
        "**Example:** In the dataset 1,2,2,3,4,4,4,5 the mode is 4.\n",
        "\n",
        "**When to Use:**\n",
        "\n",
        "Best for nominal data (categorical variables) or datasets where identifying the most common category is important.\n",
        "\n",
        "**Example**: Finding the most popular product color or customer preference in a survey.\n",
        "\n",
        "**Advantages**: Works well for non-numeric data and highlights the most common occurrence. However, it may be less informative if the dataset has no repeating values or multiple modes.\n"
      ],
      "metadata": {
        "id": "xrfHhxoCjIcM"
      }
    },
    {
      "cell_type": "markdown",
      "source": [
        "**Choosing the Appropriate Measure**\n",
        "\n",
        "**Mean: **Use when the data is symmetrical and free of extreme values. Example: Calculating average exam scores.\n",
        "\n",
        "Median: Use for skewed distributions or data with outliers. Example: Median income is a better representation of typical earnings than the mean in regions with a wide income disparity.\n",
        "\n",
        "**Mode:** Use for categorical data or when determining the most frequent occurrence. Example: Identifying the most purchased product in a store.\n"
      ],
      "metadata": {
        "id": "JpUcDN_jjhWx"
      }
    },
    {
      "cell_type": "markdown",
      "source": [
        "**Q3. Explain the concept of dispersion. How do variance and standard deviation measure the spread of data?**"
      ],
      "metadata": {
        "id": "MM8wWBxOjzKF"
      }
    },
    {
      "cell_type": "markdown",
      "source": [
        "Dispersion refers to the extent to which data points in a dataset vary or spread out from the central value, such as the mean or median. It provides insights into the variability or consistency of the dataset. High dispersion indicates that data points are spread widely, while low dispersion suggests they are clustered close to the central value.\n",
        "\n"
      ],
      "metadata": {
        "id": "_PlNB7Hcj7k0"
      }
    },
    {
      "cell_type": "markdown",
      "source": [
        "1**. Measures of Dispersion**\n",
        "\n",
        "Variance and Standard Deviation are two key metrics used to quantify dispersion."
      ],
      "metadata": {
        "id": "8fL0EWzAkKWj"
      }
    },
    {
      "cell_type": "markdown",
      "source": [
        "**Variance**\n"
      ],
      "metadata": {
        "id": "VaLvbaU0kSJr"
      }
    },
    {
      "cell_type": "markdown",
      "source": [
        "Variance measures the average squared deviation of each data point from the mean. It is calculated as:\n",
        "\n",
        "Variance\n",
        "(\n",
        "𝜎\n",
        "2\n",
        " or\n",
        "𝑠\n",
        "2\n",
        ")\n",
        "=\n",
        "∑\n",
        "(\n",
        "𝑥\n",
        "𝑖\n",
        "−\n",
        "𝑥\n",
        "ˉ\n",
        ")\n",
        "2\n",
        "/𝑛\n",
        "(for a population)\n",
        "or\n",
        "∑\n",
        "(\n",
        "𝑥\n",
        "𝑖\n",
        "−\n",
        "𝑥\n",
        "ˉ\n",
        ")\n",
        "2\n",
        "/𝑛\n",
        "−\n",
        "1\n",
        "(for a sample)\n"
      ],
      "metadata": {
        "id": "oINrW1xukVej"
      }
    },
    {
      "cell_type": "markdown",
      "source": [
        "*  Where:\n",
        "\n",
        "𝑥\n",
        "𝑖\n",
        "x\n",
        "i\n",
        "​\n",
        "  = each data point\n",
        "\n",
        "𝑥\n",
        "ˉ\n",
        "x\n",
        "ˉ\n",
        "  = mean of the dataset\n",
        "\n",
        "𝑛\n",
        "n = number of data points (population or sample size)\n",
        "\n",
        "\n"
      ],
      "metadata": {
        "id": "XNTHs6V2lEqj"
      }
    },
    {
      "cell_type": "markdown",
      "source": [
        "**Interpretation**:\n",
        "\n",
        "* Variance is in squared units of the original data, making it less intuitive for direct interpretation.\n",
        "\n",
        "* A larger variance implies greater dispersion.\n"
      ],
      "metadata": {
        "id": "G1Xu-u-3n-Vy"
      }
    },
    {
      "cell_type": "markdown",
      "source": [
        "**Standard Deviation**\n",
        "\n",
        "Standard deviation is the square root of variance, bringing the measure back to the same units as the original data. It is given by:\n",
        "\n",
        "Standard Deviation(σ or s)=\n",
        "/Variance\n",
        "\n",
        "**Interpretation**:\n",
        "\n",
        "* Standard deviation provides a clearer, more interpretable measure of spread.\n",
        "\n",
        "*   A higher standard deviation means that data points are more spread out\n",
        "    around the mean.\n",
        "\n"
      ],
      "metadata": {
        "id": "jrRgNUDXoJQ6"
      }
    },
    {
      "cell_type": "markdown",
      "source": [
        "**Relationship and Usage**\n",
        "\n",
        "Variance gives a mathematical sense of variability, emphasizing outliers due to squaring deviations.\n",
        "\n",
        "Standard Deviation is preferred for practical interpretation because it is in the same unit as the original data.\n",
        "\n",
        "**For example**, if the average height in a group is 170 cm with a standard deviation of 10 cm:\n",
        "\n",
        "Most heights are within 170±10 cm (empirical rule: 68% within 1 SD, 95% within 2 SDs).\n"
      ],
      "metadata": {
        "id": "adEg6sLpohyy"
      }
    },
    {
      "cell_type": "markdown",
      "source": [
        "**Q4. 4. What is a box plot, and what can it tell you about the distribution of data?**\n"
      ],
      "metadata": {
        "id": "2buDPo2oo3sS"
      }
    },
    {
      "cell_type": "markdown",
      "source": [
        "A box plot (or box-and-whisker plot) is a graphical representation of the distribution of a dataset that provides a summary of its central tendency, variability, and potential outliers. It visually depicts key statistics of the data, making it a useful tool for quickly assessing the spread and skewness of the data."
      ],
      "metadata": {
        "id": "XjakYAkVpDja"
      }
    },
    {
      "cell_type": "markdown",
      "source": [
        "**Key Components of a Box Plot:**\n"
      ],
      "metadata": {
        "id": "h1Dq0c4hpJVh"
      }
    },
    {
      "cell_type": "markdown",
      "source": [
        "\n",
        "\n",
        "*  Median (Q2): Represented by a line inside the box, this is the middle value\n",
        "   of the dataset when ordered.\n",
        "\n",
        "*  Interquartile Range (IQR): The box spans from the first quartile (Q1) (25th percentile) to the third quartile (Q3) (75th percentile), representing the middle 50% of the data.\n",
        "\n",
        "* Whiskers: Lines extending from the box to the smallest and largest values within a certain range, typically defined as:\n",
        "\n",
        "* Lower bound:\n",
        "𝑄1−1.5×IQRQ1−1.5×IQR\n",
        "\n",
        "\n",
        "* Upper bound:\n",
        "𝑄3+1.5*IQR\n",
        "Q3+1.5×IQR\n",
        "\n",
        "Outliers: Data points outside the whiskers are plotted individually as dots or symbols.\n"
      ],
      "metadata": {
        "id": "prJIGOlnph05"
      }
    },
    {
      "cell_type": "markdown",
      "source": [
        "**What a Box Plot Tells You:**\n"
      ],
      "metadata": {
        "id": "fqDVWTb0qVcp"
      }
    },
    {
      "cell_type": "markdown",
      "source": [
        "\n",
        "* Center of the Data: The median indicates the central value.\n",
        "\n",
        "* Spread of the Data: The length of the box (IQR) shows the variability within the middle 50% of the data.\n",
        "\n",
        "* Range: The overall span of the whiskers (excluding outliers) gives a sense of\n",
        "the dataset's range.\n",
        "\n",
        "* Symmetry or Skewness:\n",
        "\n",
        "* If the median is closer to Q1 or Q3, it suggests a skew in the data.\n",
        "\n",
        "* Symmetrical data have a median near the center of the box.\n",
        "\n",
        "* Outliers: Points outside the whiskers highlight unusual values that deviate\n",
        "  significantly from the rest of the data.\n",
        "\n"
      ],
      "metadata": {
        "id": "HFUwJDswqYGz"
      }
    },
    {
      "cell_type": "code",
      "source": [
        "By providing these insights, a box plot is particularly valuable for comparing distributions across multiple groups or datasets."
      ],
      "metadata": {
        "id": "IkcSECOMq8MR"
      },
      "execution_count": null,
      "outputs": []
    },
    {
      "cell_type": "markdown",
      "source": [
        "Q5 Discuss the role of random sampling in making inferences about populations?\n",
        "\n"
      ],
      "metadata": {
        "id": "Pnujydseq9t5"
      }
    },
    {
      "cell_type": "markdown",
      "source": [
        "**The Role of Random Sampling in Making Inferences About Populations**\n"
      ],
      "metadata": {
        "id": "SxeAVwmcrI1Z"
      }
    },
    {
      "cell_type": "code",
      "source": [
        "Random sampling plays a crucial role in statistical inference by providing a mechanism to generalize findings from a sample to a larger population.\n",
        " Here's how and why it is important:"
      ],
      "metadata": {
        "id": "6J2xrIc2rNAp"
      },
      "execution_count": null,
      "outputs": []
    },
    {
      "cell_type": "markdown",
      "source": [
        "1. Representation of the Population\n",
        "\n",
        "Random sampling ensures that every member of the population has an equal chance of being selected. This helps create a sample that is representative of the population, reducing the risk of bias. A representative sample reflects the diversity and key characteristics of the population, enabling valid generalizations.\n",
        "\n"
      ],
      "metadata": {
        "id": "zmcnjLpQrOwZ"
      }
    },
    {
      "cell_type": "markdown",
      "source": [
        "**2. Foundation for Statistical Methods**\n",
        "\n",
        "Statistical inference relies on the assumption that the sample data are collected randomly. Many inferential techniques, such as hypothesis testing and confidence intervals, are based on the probability theory that assumes randomness in the sampling process. This randomness ensures that the results are not systematically skewed.\n",
        "\n"
      ],
      "metadata": {
        "id": "aUhuRAZwrXoC"
      }
    },
    {
      "cell_type": "markdown",
      "source": [
        "**3. Reduction of Sampling Bias**\n",
        "\n",
        "By selecting participants randomly, the process avoids systematic errors that might arise from biased sampling methods. For example, if a survey about customer satisfaction only includes responses from a particular demographic group, the results may not accurately reflect the views of the entire customer base. Random sampling mitigates such risks.\n",
        "\n"
      ],
      "metadata": {
        "id": "wqVzHUX8rc4a"
      }
    },
    {
      "cell_type": "markdown",
      "source": [
        "4. Facilitation of Error Estimation\n",
        "\n",
        "Random sampling allows statisticians to quantify the uncertainty in their inferences through standard errors and confidence intervals. These measures rely on random variability in the sample to estimate how far the sample statistics (e.g., mean, proportion) are likely to be from the population parameters.\n",
        "\n"
      ],
      "metadata": {
        "id": "uzn3NzqLrijx"
      }
    },
    {
      "cell_type": "markdown",
      "source": [
        "**5. Support for the Law of Large Numbers**\n",
        "\n",
        "The Law of Large Numbers states that as the sample size increases, the sample statistics converge to the population parameters. Random sampling is essential for this principle to hold, as it ensures that the sample is not systematically biased, allowing convergence to occur.\n",
        "\n"
      ],
      "metadata": {
        "id": "fNw_gLkRrq2J"
      }
    },
    {
      "cell_type": "markdown",
      "source": [
        "**6. Basis for Generalization**\n",
        "\n",
        "Inferences about populations are valid only if the sample accurately reflects the population. Random sampling provides the foundation for such inferences, enabling researchers to generalize their findings from the sample to the entire population with known levels of confidence and precision.\n",
        "\n"
      ],
      "metadata": {
        "id": "MKT5Airdr0_Y"
      }
    },
    {
      "cell_type": "markdown",
      "source": [
        "**Practical Challenges and Considerations**\n",
        "\n",
        "While random sampling is ideal in theory, practical challenges such as incomplete sampling frames, non-response, and logistical constraints can limit its implementation. Researchers often use approximations, such as stratified or cluster sampling, to address these challenges while maintaining as much randomness as possible.\n",
        "\n"
      ],
      "metadata": {
        "id": "pXDE4-EysRdh"
      }
    },
    {
      "cell_type": "markdown",
      "source": [
        "In summary, random sampling is indispensable for making accurate and reliable inferences about populations. It ensures representativeness, reduces bias, supports statistical methods, and facilitates the quantification of uncertainty, forming the backbone of statistical analysis and decision-making."
      ],
      "metadata": {
        "id": "ZreuA_qssW0Q"
      }
    },
    {
      "cell_type": "markdown",
      "source": [
        "Q6 Explain the concept of skewness and its types. How does skewness affect the interpretation of data?\n",
        "\n"
      ],
      "metadata": {
        "id": "tiPZm3u2sniY"
      }
    },
    {
      "cell_type": "markdown",
      "source": [
        "**Concept of Skewness:**\n"
      ],
      "metadata": {
        "id": "kEWYc2qIs8kA"
      }
    },
    {
      "cell_type": "markdown",
      "source": [
        "Skewness is a statistical measure that describes the degree of asymmetry in the distribution of data. In a perfectly symmetrical distribution, the left and right sides (around the mean) are mirror images. When the data deviates from symmetry, it is said to be skewed.\n",
        "\n",
        "\n",
        "Skewness indicates the direction and extent of the asymmetry:\n",
        "\n",
        "*  Positive skewness: The right tail (larger values) is longer or fatter than the left tail.\n",
        "\n",
        "*  Negative skewness: The left tail (smaller values) is longer or fatter than the right tail.\n"
      ],
      "metadata": {
        "id": "EekbObPss-s4"
      }
    },
    {
      "cell_type": "markdown",
      "source": [
        "**Types of Skewness:**\n"
      ],
      "metadata": {
        "id": "h61tvUXOtR6Y"
      }
    },
    {
      "cell_type": "markdown",
      "source": [
        "\n",
        "\n",
        "1 Positive Skewness (Right-Skewed):\n",
        "\n",
        "* The tail on the right side is longer.\n",
        "\n",
        "* Most of the data values are concentrated on the left.\n",
        "\n",
        "* Mean > Median > Mode.\n",
        "\n",
        "* Example: Income distribution, where a small number of individuals have very\n",
        "high incomes.\n"
      ],
      "metadata": {
        "id": "IP2dY0SPtUKI"
      }
    },
    {
      "cell_type": "markdown",
      "source": [
        "2. **Negative Skewness (Left-Skewed):**\n",
        "\n",
        "*  The tail on the left side is longer.\n",
        "\n",
        "* Most of the data values are concentrated on the right.\n",
        "\n",
        "*  Mean < Median < Mode.\n",
        "\n",
        "* Example: Lifespan data, where a few individuals pass away at a younger age.\n",
        "\n",
        "\n"
      ],
      "metadata": {
        "id": "Bg8gSEwYvZJX"
      }
    },
    {
      "cell_type": "markdown",
      "source": [
        "3. Symmetrical Distribution:\n",
        "\n",
        "*  No skewness; the distribution is evenly spread around the central point.\n",
        "\n",
        "* Mean = Median = Mode.\n",
        "\n",
        "* Example: Idealized normal distribution.\n",
        "\n",
        "\n",
        "\n"
      ],
      "metadata": {
        "id": "E93fk3yHwMzP"
      }
    },
    {
      "cell_type": "markdown",
      "source": [
        "**Effects of Skewness on Data Interpretation:**\n"
      ],
      "metadata": {
        "id": "yFtM4ZDaxuvA"
      }
    },
    {
      "cell_type": "markdown",
      "source": [
        "1. Impact on Central Tendency:\n",
        "\n",
        "* Skewness affects the relationship between mean, median, and mode.\n",
        "\n",
        "* For skewed distributions, the mean is pulled in the direction of the tail.\n"
      ],
      "metadata": {
        "id": "cSVOmwTfxwbP"
      }
    },
    {
      "cell_type": "markdown",
      "source": [
        "**Decision-Making:**\n",
        "\n",
        "* In a positively skewed dataset, using the mean as a measure of central tendency may overestimate the central value. The median might provide a better sense of the \"typical\" data point.\n",
        "\n",
        "* In negatively skewed data, the mean may underestimate the central value.\n"
      ],
      "metadata": {
        "id": "ZhLJ6GVryNvu"
      }
    },
    {
      "cell_type": "markdown",
      "source": [
        "3. **Applicability of Statistical Methods:**\n",
        "\n",
        "Many statistical methods assume normal distribution. Skewness indicates deviation from normality, which may necessitate transformations or the use of non-parametric methods.\n"
      ],
      "metadata": {
        "id": "4p4ar64qyiwP"
      }
    },
    {
      "cell_type": "markdown",
      "source": [
        "4. **Interpretation of Variability:**\n",
        "\n",
        "Skewness highlights whether variability is concentrated in higher or lower ranges of values.\n"
      ],
      "metadata": {
        "id": "tF82BdtdylKW"
      }
    },
    {
      "cell_type": "markdown",
      "source": [
        "Q**7 :- What is the interquartile range (IQR), and how is it used to detect outliers?**\n",
        "\n"
      ],
      "metadata": {
        "id": "ApaUBxdyyvDV"
      }
    },
    {
      "cell_type": "markdown",
      "source": [
        "The Interquartile Range (IQR) is a statistical measure that describes the spread of the middle 50% of a data set. It is calculated as:"
      ],
      "metadata": {
        "id": "eyTitB8Gy1Nm"
      }
    },
    {
      "cell_type": "markdown",
      "source": [
        "IQR=Q\n",
        "3\n",
        "​\n",
        " −Q\n",
        "1\n"
      ],
      "metadata": {
        "id": "gODjCB7ozRIn"
      }
    },
    {
      "cell_type": "markdown",
      "source": [
        "where:\n",
        "\n",
        "*\n",
        "Q\n",
        "1\n",
        "​\n",
        "  (first quartile) is the median of the lower half of the data, marking the 25th percentile.\n",
        "\n",
        " 𝑄\n",
        "3\n",
        "Q\n",
        "3\n",
        "​\n",
        "  (third quartile) is the median of the upper half of the data, marking the 75th percentile.\n"
      ],
      "metadata": {
        "id": "Lyn3Z_xxzT_l"
      }
    },
    {
      "cell_type": "markdown",
      "source": [
        "The IQR represents the range of values between the 25th and 75th percentiles, excluding extreme values in the data."
      ],
      "metadata": {
        "id": "a8RXewtIzmIl"
      }
    },
    {
      "cell_type": "markdown",
      "source": [
        "**Using IQR to Detect Outliers**\n",
        "\n",
        "Outliers are data points that fall significantly outside the range of the majority of the data. They can be identified using the IQR with the following steps:\n",
        "\n"
      ],
      "metadata": {
        "id": "7UF7iK0jzpFe"
      }
    },
    {
      "cell_type": "markdown",
      "source": [
        "**1. Compute the IQR:**\n",
        "\n",
        "IQR\n",
        "=\n",
        "𝑄\n",
        "3\n",
        "−\n",
        "𝑄\n",
        "1\n",
        "IQR=Q\n",
        "3\n",
        "​\n",
        " −Q\n",
        "1\n",
        "​\n",
        "\n",
        "**2. Determine the fences:**\n",
        "\n",
        "Lower fence:\n",
        "𝑄\n",
        "1\n",
        "−\n",
        "1.5\n",
        "×\n",
        "IQR\n",
        "Q\n",
        "1\n",
        "​\n",
        " −1.5×IQR\n",
        "\n",
        "Upper fence:\n",
        "𝑄\n",
        "3\n",
        "+\n",
        "1.5\n",
        "×\n",
        "IQR\n",
        "Q\n",
        "3\n",
        "​\n",
        " +1.5×IQR\n",
        "\n",
        "**3. Identify outliers:**\n",
        "\n",
        "Any data point below the lower fence or above the upper fence is considered an outlier.\n"
      ],
      "metadata": {
        "id": "6MjWa3pSzwrf"
      }
    },
    {
      "cell_type": "markdown",
      "source": [
        "**Example**\n",
        "\n",
        "Suppose a data set has:\n",
        "\n",
        "𝑄\n",
        "1\n",
        "=\n",
        "10\n",
        "Q\n",
        "1\n",
        "​\n",
        " =10\n",
        "\n",
        "𝑄\n",
        "3\n",
        "=\n",
        "20\n",
        "Q\n",
        "3\n",
        "​\n",
        " =20\n"
      ],
      "metadata": {
        "id": "cnED0C5W0aCe"
      }
    },
    {
      "cell_type": "markdown",
      "source": [
        "Then:\n",
        "\n",
        "IQR\n",
        "=\n",
        "20\n",
        "−\n",
        "10\n",
        "=\n",
        "10\n",
        "\n",
        "IQR=20−10=10\n",
        "Lower fence =\n",
        "10\n",
        "−\n",
        "1.5\n",
        "×\n",
        "10\n",
        "=\n",
        "−\n",
        "5\n",
        "10−1.5×10=−5\n",
        "\n",
        "Upper fence =\n",
        "20\n",
        "+\n",
        "1.5\n",
        "×\n",
        "10\n",
        "=\n",
        "35\n",
        "20+1.5×10=35\n"
      ],
      "metadata": {
        "id": "2nU1vZsh1E01"
      }
    },
    {
      "cell_type": "markdown",
      "source": [
        "Outliers: Any data points below\n",
        "−\n",
        "5\n",
        "−5 or above\n",
        "35\n",
        "35 are considered outliers.\n",
        "\n",
        "The IQR method is robust to skewed data and non-normal distributions, making it a widely used tool for detecting outliers.\n",
        "\n",
        "\n",
        "\n",
        "\n",
        "\n",
        "\n"
      ],
      "metadata": {
        "id": "i3AvBPGT1QH9"
      }
    },
    {
      "cell_type": "markdown",
      "source": [
        "8. Discuss the conditions under which the binomial distribution is used?\n",
        "\n"
      ],
      "metadata": {
        "id": "M69LGsmb1Xjk"
      }
    },
    {
      "cell_type": "markdown",
      "source": [
        "The binomial distribution is a discrete probability distribution that describes the number of successes in a fixed number of independent trials of a binary experiment. It is used under the following conditions:\n",
        "\n"
      ],
      "metadata": {
        "id": "vu6o0T8a1bDd"
      }
    },
    {
      "cell_type": "markdown",
      "source": [
        "1. Fixed Number of Trials:\n",
        "\n",
        "\n",
        "* The experiment or process is repeated a predetermined number of times, denoted as\n",
        "𝑛\n",
        "n.\n",
        "\n",
        "* Each trial is identical.\n"
      ],
      "metadata": {
        "id": "F36GbnZk1dgH"
      }
    },
    {
      "cell_type": "markdown",
      "source": [
        "2. Two Possible Outcomes per Trial:\n",
        "\n",
        "* Each trial has exactly two mutually exclusive outcomes, typically referred to as \"success\" and \"failure.\"\n",
        "\n",
        "* For example, flipping a coin results in \"heads\" (success) or \"tails\" (failure).\n"
      ],
      "metadata": {
        "id": "QkKiXUb91qfU"
      }
    },
    {
      "cell_type": "markdown",
      "source": [
        "**3. Independent Trials:**\n",
        "\n",
        "*  The outcome of any given trial does not affect the outcome of any other trial.\n",
        "\n",
        "* Independence ensures that the probability of success remains constant across all trials.\n"
      ],
      "metadata": {
        "id": "oEl5y0Ew3pel"
      }
    },
    {
      "cell_type": "markdown",
      "source": [
        "**4. Constant Probability of Success:**\n",
        "\n",
        "* The probability of success (\n",
        "𝑝\n",
        "p) is the same for each trial.\n",
        "\n",
        "* Similarly, the probability of failure is\n"
      ],
      "metadata": {
        "id": "sBqaG6La34r0"
      }
    },
    {
      "cell_type": "markdown",
      "source": [
        "**5. Discrete Random Variable:**\n",
        "\n",
        "*  The random variable\n",
        "𝑋\n",
        "X represents the number of successes in\n",
        "𝑛\n",
        "n trials and can take integer values from\n",
        "0\n",
        "0 to\n",
        "𝑛\n",
        "n.\n"
      ],
      "metadata": {
        "id": "0zu-JN5T4zxG"
      }
    },
    {
      "cell_type": "markdown",
      "source": [
        "**Examples:**\n",
        "\n",
        "Tossing a coin\n",
        "𝑛\n",
        "n times and counting the number of heads.\n",
        "Testing\n",
        "𝑛\n",
        "n light bulbs to find the number of defective ones, assuming each has the same probability of being defective.\n",
        "Administering a drug to\n",
        "𝑛\n",
        "n patients and recording the number of patients who respond positively.\n"
      ],
      "metadata": {
        "id": "t6TJmN2s4-xd"
      }
    },
    {
      "cell_type": "markdown",
      "source": [
        "The binomial distribution is characterized by two parameters:\n",
        "\n",
        "* n: number of trial\n",
        "\n",
        "* 𝑝p: probability of success in a single trial\n",
        "\n",
        "The probability mass function (PMF) of the binomial distribution is:\n",
        "\n",
        "𝑃\n",
        "(\n",
        "𝑋\n",
        "=\n",
        "𝑘\n",
        ")\n",
        "=\n",
        "(\n",
        "𝑛\n",
        "𝑘\n",
        ")\n",
        "𝑝\n",
        "𝑘\n",
        "(\n",
        "1\n",
        "−\n",
        "𝑝\n",
        ")\n",
        "𝑛\n",
        "−\n",
        "𝑘\n",
        "P(X=k)=(\n",
        "k\n",
        "n\n",
        "​\n",
        " )p\n",
        "k\n",
        " (1−p)\n",
        "n−k\n",
        "\n"
      ],
      "metadata": {
        "id": "cVsdgBd-5Dp7"
      }
    },
    {
      "cell_type": "markdown",
      "source": [
        "where:\n",
        "\n",
        "𝑘\n",
        "k is the number of successes,\n",
        "\n",
        "(\n",
        "𝑛\n",
        "𝑘\n",
        ")\n",
        "=\n",
        "𝑛\n",
        "!\n",
        "𝑘\n",
        "!\n",
        "(\n",
        "𝑛\n",
        "−\n",
        "𝑘\n",
        ")\n",
        "!\n",
        "(\n",
        "k\n",
        "n\n",
        "​\n",
        " )=\n",
        "k!(n−k)!\n",
        "n!\n",
        "​\n",
        "  is the binomial coefficient.\n",
        "\n",
        "\n",
        "\n",
        "\n",
        "\n"
      ],
      "metadata": {
        "id": "8X04iyrv5wXL"
      }
    },
    {
      "cell_type": "markdown",
      "source": [
        "9. Explain the properties of the normal distribution and the empirical rule (68-95-99.7 rule)?\n",
        "\n"
      ],
      "metadata": {
        "id": "2psvekre6D6b"
      }
    },
    {
      "cell_type": "markdown",
      "source": [
        "**Properties of the Normal Distribution:**\n"
      ],
      "metadata": {
        "id": "M5Zl1Axc6O4D"
      }
    },
    {
      "cell_type": "markdown",
      "source": [
        "1. Symmetry:\n",
        "The normal distribution is perfectly symmetric around its mean (\n",
        "𝜇\n",
        "μ). This means the left half is a mirror image of the right half.\n",
        "\n",
        "2. Bell-Shaped Curve:\n",
        "The graph of a normal distribution forms a bell-shaped curve. Most of the data is clustered around the mean, and the frequencies taper off symmetrically as you move away from the mean.\n",
        "\n",
        "3. Mean, Median, and Mode:\n",
        "In a normal distribution, the mean (\n",
        "𝜇\n",
        "μ), median, and mode are all equal and located at the center of the distribution.\n",
        "\n",
        "4. Asymptotic:\n",
        "The tails of the normal distribution approach the horizontal axis but never actually touch it. This means the distribution extends infinitely in both directions.\n",
        "\n",
        "5. Defined by Two Parameters:\n",
        "The normal distribution is fully described by its mean (\n",
        "μ) and standard deviation\n",
        "\n",
        "𝜇\n",
        "μ determines the center of the distribution.\n",
        "\n",
        "𝜎\n",
        "σ determines the spread or width of the distribution.\n",
        "\n",
        "6. Total Area Under the Curve Equals 1:\n",
        "The area under the entire normal distribution curve represents the total probability and is equal to 1.\n",
        "\n",
        "7.  Standard Normal Distribution:\n",
        "If\n",
        "𝜇\n",
        "=\n",
        "0\n",
        "μ=0 and\n",
        "𝜎\n",
        "=\n",
        "1\n",
        "σ=1, the distribution is called the standard normal distribution. It is often used for standardization and Z-scores.\n",
        "\n"
      ],
      "metadata": {
        "id": "BmuqeEQN6tdz"
      }
    },
    {
      "cell_type": "markdown",
      "source": [
        "**Empirical Rule (68-95-99.7 Rule):**\n"
      ],
      "metadata": {
        "id": "Bya8pCuH7ysS"
      }
    },
    {
      "cell_type": "markdown",
      "source": [
        "The empirical rule describes the percentage of data within certain intervals of the mean in a normal distribution:\n",
        "\n",
        "1. 68% of Data Within 1 Standard Deviation (\n",
        "𝜇\n",
        "±\n",
        "𝜎\n",
        "μ±σ):\n",
        "About 68% of the data falls within one standard deviation from the mean. This includes the interval\n",
        "[\n",
        "𝜇\n",
        "−\n",
        "𝜎\n",
        "𝜇+𝜎[μ−σ,μ+σ]\n",
        "\n",
        "2. 95% of Data Within 2 Standard Deviations (\n",
        "𝜇±\n",
        "2\n",
        "𝜎\n",
        "μ±2σ):\n",
        "Approximately 95% of the data falls within two standard deviations from the mean. This includes the interval\n",
        "[\n",
        "𝜇\n",
        "−\n",
        "2\n",
        "𝜎,𝜇+2𝜎][μ−2σ,μ+2σ].\n",
        "\n",
        "3. 99.7% of Data Within 3 Standard Deviations (\n",
        "𝜇\n",
        "±\n",
        "3\n",
        "𝜎\n",
        "μ±3σ):\n",
        "Almost all (99.7%) of the data is contained within three standard deviations from the mean. This includes the interval\n",
        "[\n",
        "𝜇\n",
        "−\n",
        "3\n",
        "𝜎\n",
        ",𝜇+3𝜎][μ−3σ,μ+3σ].\n",
        "\n"
      ],
      "metadata": {
        "id": "0YCxzI1J70Ny"
      }
    },
    {
      "cell_type": "markdown",
      "source": [
        "**Why the Empirical Rule is Useful:**\n",
        "\n",
        "It provides a quick way to estimate the spread of data in a normal distribution.\n",
        "It helps in identifying outliers, as data points beyond\n",
        "𝜇\n",
        "±\n",
        "3\n",
        "𝜎\n",
        "μ±3σ are extremely rare (less than 0.3% probability).\n"
      ],
      "metadata": {
        "id": "8_ZFD1gg8a6y"
      }
    },
    {
      "cell_type": "markdown",
      "source": [
        "Q10. **Provide a real-life example of a Poisson process and calculate the probability for a specific event.**\n",
        "\n"
      ],
      "metadata": {
        "id": "tMttKeulxABs"
      }
    },
    {
      "cell_type": "markdown",
      "source": [
        "**Example of a Poisson Process:**\n"
      ],
      "metadata": {
        "id": "a4HXqhbyxHsu"
      }
    },
    {
      "cell_type": "markdown",
      "source": [
        "A real-life example of a Poisson process is the number of customer arrivals at a bank's service counter in an hour. Let's say on average, 10 customers arrive per hour. This arrival process can be modeled as a Poisson process because:\n",
        "\n",
        "1.   Arrivals occur randomly over time.\n",
        "\n",
        "2.  The probability of two arrivals happening simultaneously is negligible.\n",
        "\n",
        "3. The number of arrivals in non-overlapping intervals is independent.\n"
      ],
      "metadata": {
        "id": "-DRMUUplxNuE"
      }
    },
    {
      "cell_type": "markdown",
      "source": [
        "**Problem:**\n",
        "\n",
        "What is the probability that exactly 8 customers will arrive at the service counter in the next hour?\n",
        "\n",
        "\n"
      ],
      "metadata": {
        "id": "cKeUSqm1xjDM"
      }
    },
    {
      "cell_type": "markdown",
      "source": [
        "**Poisson Distribution Formula:**\n",
        "\n",
        "The probability mass function for the Poisson distribution is:\n",
        "\n",
        "𝑃\n",
        "(\n",
        "𝑋\n",
        "=\n",
        "𝑘\n",
        ")\n",
        "=\n",
        "𝜆\n",
        "𝑘\n",
        "𝑒\n",
        "−\n",
        "𝜆\n",
        "𝑘\n",
        "!\n",
        "P(X=k)=\n",
        "k!\n",
        "λ\n",
        "k\n",
        " e\n",
        "−λ\n",
        "\n",
        "​\n",
        "\n",
        "Where:\n",
        "\n",
        " λ: the expected number of events (mean) in the given interval (\n",
        "𝜆\n",
        "=\n",
        "10\n",
        "λ=10 in this case),\n",
        "\n",
        "\n",
        "𝑘\n",
        "k: the number of events for which we want the probability (\n",
        "\n",
        "  \n",
        "𝑘\n",
        "=\n",
        "8\n",
        "k=8),\n",
        "𝑒\n",
        "e: the base of the natural logarithm (\n",
        "𝑒\n",
        "≈\n",
        "2.718\n",
        "e≈2.718).\n",
        "\n",
        "\n"
      ],
      "metadata": {
        "id": "cBXn4B96xt2E"
      }
    },
    {
      "cell_type": "markdown",
      "source": [
        "**Solution:**\n",
        "\n",
        "Substitute\n",
        "𝜆\n",
        "=\n",
        "10\n",
        "λ=10 and\n",
        "𝑘\n",
        "=\n",
        "8\n",
        "k=8 into the formula:\n",
        "\n"
      ],
      "metadata": {
        "id": "V5B5e8plyDQc"
      }
    },
    {
      "cell_type": "markdown",
      "source": [
        "P(X=8)=\n",
        "8!\n",
        "10 /\n",
        "8\n",
        "\n",
        " ⋅e\n",
        "−10\n",
        "\n",
        " Let me calculate this.\n",
        "\n",
        "\n",
        "\n"
      ],
      "metadata": {
        "id": "nJCPVSodyGy8"
      }
    },
    {
      "cell_type": "code",
      "source": [
        "import math\n",
        "\n",
        "# Parameters\n",
        "lambda_value = 10  # average number of events\n",
        "k = 8  # number of events\n",
        "\n",
        "# Poisson probability calculation\n",
        "poisson_probability = (lambda_value**k * math.exp(-lambda_value)) / math.factorial(k)\n",
        "poisson_probability\n"
      ],
      "metadata": {
        "colab": {
          "base_uri": "https://localhost:8080/"
        },
        "id": "9kXiabq4yUyt",
        "outputId": "9c9576ea-d889-4b54-b8a2-3de0406bea64"
      },
      "execution_count": 1,
      "outputs": [
        {
          "output_type": "execute_result",
          "data": {
            "text/plain": [
              "0.11259903214901998"
            ]
          },
          "metadata": {},
          "execution_count": 1
        }
      ]
    },
    {
      "cell_type": "code",
      "source": [
        "The probability that exactly 8 customers will arrive at the service counter in the next hour is approximately 0.1126 (or 11.26%). ​​\n"
      ],
      "metadata": {
        "id": "92C3MoBIyVur"
      },
      "execution_count": null,
      "outputs": []
    },
    {
      "cell_type": "markdown",
      "source": [
        "Q11  Explain what a random variable is and differentiate between discrete and continuous random variables?\n",
        "\n"
      ],
      "metadata": {
        "id": "-9aCqLwTye0s"
      }
    },
    {
      "cell_type": "markdown",
      "source": [
        "**What is a Random Variable?**\n"
      ],
      "metadata": {
        "id": "ba1H9c61ylIm"
      }
    },
    {
      "cell_type": "markdown",
      "source": [
        "A random variable is a numerical quantity that represents the outcome of a random phenomenon. It assigns a numerical value to each possible outcome of a random experiment.\n",
        "\n",
        "*  Notation: Random variables are typically denoted by uppercase letters (e.g.,\n",
        "𝑋\n",
        ",\n",
        "𝑌\n",
        ",\n",
        "𝑍\n",
        "X,Y,Z).\n",
        "\n",
        "* Values: The values a random variable can take depend on the underlying experiment.\n"
      ],
      "metadata": {
        "id": "WlQlzy6Vyofr"
      }
    },
    {
      "cell_type": "markdown",
      "source": [
        "**Types of Random Variables:**\n"
      ],
      "metadata": {
        "id": "7zXNRGuby0NM"
      }
    },
    {
      "cell_type": "markdown",
      "source": [
        "1.** Discrete Random Variable:**\n",
        "\n",
        "*   A random variable is discrete if it can take on a finite or countable set of values.\n",
        "\n",
        "**Examples:**\n",
        "\n",
        "*  The number of heads in 5 coin tosses (\n",
        "𝑋\n",
        "=\n",
        "0\n",
        ",\n",
        "1\n",
        ",\n",
        "2\n",
        ",\n",
        "3\n",
        ",\n",
        "4\n",
        ",\n",
        "5\n",
        "X=0,1,2,3,4,5).\n",
        "\n",
        "*  The number of customers in a queue (\n",
        "𝑋\n",
        "=\n",
        "0\n",
        ",\n",
        "1\n",
        ",\n",
        "2\n",
        ",\n",
        "…\n",
        "X=0,1,2,…).\n",
        "\n",
        "*   Key Characteristic: Values are distinct and separate, often integers.\n",
        "\n",
        "*   Probability Distribution: Defined by a probability mass function (PMF),\n",
        "𝑃\n",
        "(\n",
        "𝑋\n",
        "=\n",
        "𝑥\n",
        ")\n",
        "P(X=x).\n",
        "\n",
        "\n",
        "\n",
        "\n",
        "\n",
        "\n",
        "\n",
        "\n",
        "\n",
        "\n",
        "\n",
        "\n",
        "\n",
        "\n",
        "\n",
        "\n"
      ],
      "metadata": {
        "id": "ITbGWMXNy4lc"
      }
    },
    {
      "cell_type": "markdown",
      "source": [
        "2. Continuous Random Variable:\n",
        "\n"
      ],
      "metadata": {
        "id": "TDjKQ59zzf3E"
      }
    },
    {
      "cell_type": "markdown",
      "source": [
        "\n",
        "\n",
        "*  A random variable is continuous if it can take on any value within a given interval (potentially infinite).\n",
        "\n",
        "**Examples:**\n",
        "\n",
        "*   The height of a person (\n",
        "𝑋\n",
        "X could be any value, such as\n",
        "     170.5\n",
        "   170.5 cm).\n",
        "*   The time taken to complete a task (\n",
        "𝑋\n",
        "0\n",
        "X>0).\n",
        "\n",
        "*   Key Characteristic: Values are uncountable and often real numbers.\n",
        "*   Probability Distribution: Defined by a probability density function (PDF), and probabilities are determined by the area under the curve, not individual points.\n",
        "\n",
        "\n",
        "\n",
        "\n",
        "\n",
        "\n",
        "\n",
        "\n"
      ],
      "metadata": {
        "id": "SuFzeG6rzkXF"
      }
    },
    {
      "cell_type": "markdown",
      "source": [
        "Q12 Provide an example dataset, calculate both covariance and correlation, and interpret the results?\n",
        "\n"
      ],
      "metadata": {
        "id": "W2EptN7B0JPN"
      }
    },
    {
      "cell_type": "markdown",
      "source": [
        "Let's go through an example to calculate both covariance and correlation for two variables and interpret the results.\n",
        "\n"
      ],
      "metadata": {
        "id": "-SDAclWH0ODU"
      }
    },
    {
      "cell_type": "markdown",
      "source": [
        "**Example Dataset:**\n",
        "\n",
        "We have the following data for two variables\n",
        "𝑋\n",
        "X (hours studied) and\n",
        "𝑌\n",
        "Y (exam scores):\n",
        "\n",
        "\n",
        "\n"
      ],
      "metadata": {
        "id": "BAXwRXNd0WGV"
      }
    },
    {
      "cell_type": "code",
      "source": [
        "Student   |\tX (Hours Studied)\t |  Y (Exam Scores)\n",
        "1\t        |        2\t         |            50\n",
        "2         |        3           |           \t60\n",
        "3\t        |        5\t         |            80\n",
        "4\t        |        7\t         |            90\n",
        "5\t        |        8\t         |            100"
      ],
      "metadata": {
        "id": "HewMzlfY1QG1"
      },
      "execution_count": null,
      "outputs": []
    },
    {
      "cell_type": "markdown",
      "source": [
        "Step 1: Calculate Covariance\n",
        "\n",
        "The formula for covariance is:\n",
        "\n",
        "Cov(X,Y)=\n",
        "n−1\n",
        "1\n",
        "​\n",
        "i=1\n",
        "∑\n",
        "n\n",
        "​\n",
        " (X\n",
        "i\n",
        "​\n",
        " −\n",
        "X\n",
        "ˉ\n",
        " )(Y\n",
        "i\n",
        "​\n",
        " −\n",
        "Y\n",
        "ˉ\n",
        " )\n"
      ],
      "metadata": {
        "id": "oqlW6lLH1qKU"
      }
    },
    {
      "cell_type": "markdown",
      "source": [
        "1. Compute the mean of\n",
        "𝑋\n",
        "X and\n",
        "𝑌\n",
        "Y:\n",
        "\n",
        "ˉ\n",
        " =\n",
        "\n",
        "(2+3+5+7+8)/5\n",
        "​\n",
        "\n",
        " =5hours\n"
      ],
      "metadata": {
        "id": "7EKFeGek17nk"
      }
    },
    {
      "cell_type": "markdown",
      "source": [
        "ˉY\n",
        " =\n",
        "(50+60+80+90+100)/5\n",
        "​\n",
        "\n",
        " =76score\n"
      ],
      "metadata": {
        "id": "DwC3cIiT2eqk"
      }
    },
    {
      "cell_type": "markdown",
      "source": [
        "2. Calculate deviations from the mean and their product for each data pair:\n",
        "\n"
      ],
      "metadata": {
        "id": "86JtzhI_2tIF"
      }
    },
    {
      "cell_type": "code",
      "source": [
        "X        |       Y      |      X-X_     |    Y-Y_     |  (X-X_) (Y-Y_)\n",
        "2        |       50     |      -3       |    -26      |    78\n",
        "3        |       60     |      -2       |    -16      |    32\n",
        "5        |       80     |       0       |     4       |    0\n",
        "7        |       90     |       2       |     14      |    28\n",
        "8        |       100    |       3       |     24      |    72"
      ],
      "metadata": {
        "id": "akgpjijL2_uc"
      },
      "execution_count": null,
      "outputs": []
    },
    {
      "cell_type": "markdown",
      "source": [
        "Sum up the products and divide by\n",
        "𝑛\n",
        "−\n",
        "1\n",
        "n−1:\n"
      ],
      "metadata": {
        "id": "-Iw-dFhd4pwk"
      }
    },
    {
      "cell_type": "markdown",
      "source": [
        "COV(X,Y) = (78+32+0+28+72)/5-1\n",
        "\n",
        "210/4\n",
        "52.5\n",
        "\n",
        "Covariance = 52.5\n",
        "\n"
      ],
      "metadata": {
        "id": "1ywdp2_g4tYU"
      }
    },
    {
      "cell_type": "markdown",
      "source": [
        "**Step 2: Calculate Correlation**\n",
        "The formula for correlation is:\n",
        "\n",
        "r=\n",
        "σ\n",
        "X\n",
        "​\n",
        " σ\n",
        "Y\n",
        "​  /\n",
        "\n",
        "Cov(X,Y)\n"
      ],
      "metadata": {
        "id": "JFHqf5km-saS"
      }
    },
    {
      "cell_type": "markdown",
      "source": [
        "Where:\n",
        "\n",
        "𝜎\n",
        "𝑋\n",
        "σ\n",
        "X\n",
        "​\n",
        "  = Standard deviation of\n",
        "𝑋\n",
        "X\n",
        "\n",
        "𝜎\n",
        "𝑌\n",
        "σ\n",
        "Y\n",
        "​\n",
        "  = Standard deviation of\n"
      ],
      "metadata": {
        "id": "QGcLCMph-9Rm"
      }
    },
    {
      "cell_type": "code",
      "source": [
        "import numpy as np\n",
        "\n",
        "# Data\n",
        "X = np.array([2, 3, 5, 7, 8])  # Hours studied\n",
        "Y = np.array([50, 60, 80, 90, 100])  # Exam scores\n",
        "\n",
        "# Calculate means\n",
        "mean_X = np.mean(X)\n",
        "mean_Y = np.mean(Y)\n",
        "\n",
        "# Calculate covariance\n",
        "covariance = np.sum((X - mean_X) * (Y - mean_Y)) / (len(X) - 1)\n",
        "\n",
        "# Calculate standard deviations\n",
        "std_X = np.std(X, ddof=1)\n",
        "std_Y = np.std(Y, ddof=1)\n",
        "\n",
        "# Calculate correlation\n",
        "correlation = covariance / (std_X * std_Y)\n",
        "\n",
        "covariance, std_X, std_Y, correlation\n"
      ],
      "metadata": {
        "colab": {
          "base_uri": "https://localhost:8080/"
        },
        "id": "AvrP-Ir__TEf",
        "outputId": "1ad049af-86e5-4e92-cb12-76250c5ac8d5"
      },
      "execution_count": 5,
      "outputs": [
        {
          "output_type": "execute_result",
          "data": {
            "text/plain": [
              "(52.5, 2.5495097567963922, 20.73644135332772, 0.993043784063014)"
            ]
          },
          "metadata": {},
          "execution_count": 5
        }
      ]
    },
    {
      "cell_type": "markdown",
      "source": [
        "The calculations yield the following results:\n",
        "\n",
        "Covariance:\n",
        "52.5\n",
        "\n",
        "Standard deviation of\n",
        "𝑋\n",
        "X:\n",
        "2.55\n",
        "\n",
        "Standard deviation of\n",
        "𝑌\n",
        "Y:\n",
        "20.74\n",
        "\n",
        "Correlation (r):\n",
        "0.993\n",
        "0.993\n"
      ],
      "metadata": {
        "id": "Sjpj00Rv_HYE"
      }
    },
    {
      "cell_type": "markdown",
      "source": [
        "**Interpretation:**\n",
        "\n",
        "1. Covariance: A positive covariance (52.552.5) indicates that as\n",
        "𝑋\n",
        "X (hours studied) increases,\n",
        "𝑌Y (exam scores) also tends to increase. However, covariance does not standardize the relationship, so its magnitude depends on the units of\n",
        "𝑋\n",
        "X and\n",
        "𝑌\n",
        "Y.\n",
        "\n",
        "2. Correlation: The correlation coefficient (\n",
        "𝑟\n",
        "=0.993\n",
        "r=0.993) is close to 1, indicating a very strong positive linear relationship between hours studied and exam scores. This means that higher study hours are highly associated with better exam scores.\n",
        "\n",
        "\n",
        "\n"
      ],
      "metadata": {
        "id": "OrxgIR6E_wKU"
      }
    }
  ]
}